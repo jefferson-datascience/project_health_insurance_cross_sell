{
 "cells": [
  {
   "cell_type": "markdown",
   "id": "cab31e97",
   "metadata": {},
   "source": [
    "# 0.0 IMPORTS"
   ]
  },
  {
   "cell_type": "code",
   "execution_count": 1,
   "id": "502a0aed",
   "metadata": {
    "ExecuteTime": {
     "end_time": "2022-10-11T22:33:23.643331Z",
     "start_time": "2022-10-11T22:33:21.436301Z"
    }
   },
   "outputs": [],
   "source": [
    "import sqlalchemy\n",
    "import pandas as pd"
   ]
  },
  {
   "cell_type": "markdown",
   "id": "3f25cc70",
   "metadata": {},
   "source": [
    "# 1.0 - Coleta e Armazenamento dos Dados"
   ]
  },
  {
   "cell_type": "markdown",
   "id": "fd74e63e",
   "metadata": {},
   "source": [
    "## Credencias para conectar no Postgresql"
   ]
  },
  {
   "cell_type": "code",
   "execution_count": 2,
   "id": "6fc9a9a2",
   "metadata": {
    "ExecuteTime": {
     "end_time": "2022-10-11T22:33:23.659182Z",
     "start_time": "2022-10-11T22:33:23.647467Z"
    }
   },
   "outputs": [],
   "source": [
    "# Credentials\n",
    "host     = 'comunidade-ds-postgres.c50pcakiuwi3.us-east-1.rds.amazonaws.com'\n",
    "port     = '5432'\n",
    "database = 'comunidadedsdb'\n",
    "username = 'member'\n",
    "pwd      = 'cdspa'"
   ]
  },
  {
   "cell_type": "code",
   "execution_count": 3,
   "id": "5f9fe3eb",
   "metadata": {
    "ExecuteTime": {
     "end_time": "2022-10-11T22:33:26.627460Z",
     "start_time": "2022-10-11T22:33:23.664199Z"
    }
   },
   "outputs": [],
   "source": [
    "# Endereço de acesso ao banco de dados\n",
    "address = 'postgresql://'+ username + ':' + pwd + '@' + host + '/' + database\n",
    "\n",
    "# Conexão no banco de Dados\n",
    "engine = sqlalchemy.create_engine(address)\n",
    "conn = engine.connect()"
   ]
  },
  {
   "cell_type": "markdown",
   "id": "47515993",
   "metadata": {
    "ExecuteTime": {
     "end_time": "2022-10-11T00:08:20.238536Z",
     "start_time": "2022-10-11T00:08:20.226533Z"
    }
   },
   "source": [
    "## Coletando as tabelas"
   ]
  },
  {
   "cell_type": "code",
   "execution_count": 4,
   "id": "f28f754b",
   "metadata": {
    "ExecuteTime": {
     "end_time": "2022-10-11T22:33:40.456859Z",
     "start_time": "2022-10-11T22:33:26.638050Z"
    }
   },
   "outputs": [],
   "source": [
    "# ------------------------- Tabela users --------------------------\n",
    "query_users_table = \"\"\" SELECT * FROM pa004.users \"\"\"\n",
    "\n",
    "df_users = pd.read_sql(query_users_table, conn)\n",
    "\n",
    "# -------------------------- Tabela Vehicle -----------------------\n",
    "query_vehicle_table = \"\"\" SELECT * FROM pa004.vehicle \"\"\"\n",
    "\n",
    "df_vehicle = pd.read_sql(query_vehicle_table, conn)\n",
    "\n",
    "# -------------------------- Tabela Insurance ---------------------\n",
    "query_insurance_table = \"\"\" SELECT * FROM pa004.insurance\"\"\"\n",
    "\n",
    "df_insurance = pd.read_sql(query_insurance_table, conn)"
   ]
  },
  {
   "cell_type": "markdown",
   "id": "838f7c3e",
   "metadata": {
    "ExecuteTime": {
     "end_time": "2022-10-11T00:11:03.841328Z",
     "start_time": "2022-10-11T00:11:03.824477Z"
    }
   },
   "source": [
    "## União das tabelas"
   ]
  },
  {
   "cell_type": "code",
   "execution_count": 5,
   "id": "dd59daf5",
   "metadata": {
    "ExecuteTime": {
     "end_time": "2022-10-11T22:33:41.255992Z",
     "start_time": "2022-10-11T22:33:40.465523Z"
    }
   },
   "outputs": [],
   "source": [
    "# first merge\n",
    "df1 = pd.merge(df_users, df_vehicle, how='inner', on='id')\n",
    "\n",
    "# second merge\n",
    "df_raw = pd.merge(df1, df_insurance, how='inner', on='id')"
   ]
  },
  {
   "cell_type": "markdown",
   "id": "c66b9e76",
   "metadata": {
    "ExecuteTime": {
     "end_time": "2022-10-11T00:15:30.028528Z",
     "start_time": "2022-10-11T00:15:30.018642Z"
    }
   },
   "source": [
    "## Guardando os dados"
   ]
  },
  {
   "cell_type": "code",
   "execution_count": 7,
   "id": "578ce7a9",
   "metadata": {
    "ExecuteTime": {
     "end_time": "2022-10-11T22:34:23.112435Z",
     "start_time": "2022-10-11T22:34:20.740647Z"
    }
   },
   "outputs": [],
   "source": [
    "df_raw.to_csv('train.csv', index=True)"
   ]
  },
  {
   "cell_type": "code",
   "execution_count": null,
   "id": "fbc9850b",
   "metadata": {},
   "outputs": [],
   "source": []
  }
 ],
 "metadata": {
  "kernelspec": {
   "display_name": "Python 3 (ipykernel)",
   "language": "python",
   "name": "python3"
  },
  "language_info": {
   "codemirror_mode": {
    "name": "ipython",
    "version": 3
   },
   "file_extension": ".py",
   "mimetype": "text/x-python",
   "name": "python",
   "nbconvert_exporter": "python",
   "pygments_lexer": "ipython3",
   "version": "3.8.0"
  }
 },
 "nbformat": 4,
 "nbformat_minor": 5
}
